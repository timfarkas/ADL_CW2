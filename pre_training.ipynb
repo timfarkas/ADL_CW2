{
 "cells": [
  {
   "cell_type": "code",
   "execution_count": 8,
   "metadata": {},
   "outputs": [],
   "source": [
    "from custom_data import OxfordPetDataset\n",
    "import custom_loader\n",
    "import os\n",
    "from models import ResNetBackbone, CNNBackbone, BboxHead, ClassifierHead\n",
    "import torch \n",
    "import sys\n",
    "import io"
   ]
  },
  {
   "cell_type": "code",
   "execution_count": 11,
   "metadata": {},
   "outputs": [
    {
     "name": "stdout",
     "output_type": "stream",
     "text": [
      "Using mps\n",
      "Preparing data loaders\n",
      "Images already downloaded: oxford_pet_data/images.tar.gz\n",
      "Annotations already downloaded: oxford_pet_data/annotations.tar.gz\n",
      "Dataset prepared with 35 classes.\n",
      "Dataset split complete: training (70.0%), validation (15.0%), testing (15.0%)\n",
      "Dataset split complete: training (70.0%), validation (15.0%), testing (15.0%)\n",
      "Dataset split complete: training (70.0%), validation (15.0%), testing (15.0%)\n",
      "\n",
      "Successfully prepared data loaders!\n"
     ]
    }
   ],
   "source": [
    "device = torch.device(\"cuda\" if torch.cuda.is_available() else \"mps\" if torch.backends.mps.is_available() else \"cpu\")\n",
    "print(f\"Using {device}\")\n",
    "\n",
    "loader_dict = {\n",
    "    \"breed\":{},\n",
    "    \"species\":{},\n",
    "    \"bbox\":{}\n",
    "}\n",
    "\n",
    "#### Preparing loaders\n",
    "print(\"Preparing data loaders\")\n",
    "dataset = OxfordPetDataset().prepare_dataset()\n",
    "\n",
    "for mode in loader_dict.keys():\n",
    "    train_loader, val_loader, test_loader = custom_loader.create_dataloaders(dataset, target_type=mode)\n",
    "    loader_dict[mode]['train_loader'] = train_loader\n",
    "    loader_dict[mode]['val_loader'] = val_loader\n",
    "    loader_dict[mode]['test_loader'] = test_loader\n",
    "\n",
    "print(\"\")\n",
    "print(\"Successfully prepared data loaders!\")"
   ]
  },
  {
   "cell_type": "code",
   "execution_count": 12,
   "metadata": {},
   "outputs": [
    {
     "name": "stdout",
     "output_type": "stream",
     "text": [
      "All tests passed.\n"
     ]
    }
   ],
   "source": [
    "\n",
    "backbone = CNNBackbone()\n",
    "res_backbone = ResNetBackbone()\n",
    "cnn_head = BboxHead(adapter=\"cnn\")\n",
    "res_head = BboxHead(adapter=\"res\")\n",
    "res_class_head = ClassifierHead(adapter=\"res\")\n",
    "cnn_class_head = ClassifierHead(adapter=\"cnn\")\n",
    "\n",
    "loader = loader_dict[\"bbox\"]['train_loader']\n",
    "\n",
    "### First, test whether backbones and heads fit together\n",
    "for images, labels in loader:\n",
    "    features = backbone(images)\n",
    "    features2 = res_backbone(images)\n",
    "    \n",
    "    predictions = cnn_head(features)\n",
    "    predictions2 = res_head(features2)\n",
    "\n",
    "    predictions3 = res_class_head(features2)\n",
    "    predictions4 = cnn_class_head(features)\n",
    "    print(\"All tests passed.\")\n",
    "    break"
   ]
  }
 ],
 "metadata": {
  "kernelspec": {
   "display_name": "comp0197-cw1-pt",
   "language": "python",
   "name": "python3"
  },
  "language_info": {
   "codemirror_mode": {
    "name": "ipython",
    "version": 3
   },
   "file_extension": ".py",
   "mimetype": "text/x-python",
   "name": "python",
   "nbconvert_exporter": "python",
   "pygments_lexer": "ipython3",
   "version": "3.12.9"
  }
 },
 "nbformat": 4,
 "nbformat_minor": 2
}
