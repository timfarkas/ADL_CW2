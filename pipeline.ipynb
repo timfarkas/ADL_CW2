{
 "cells": [
  {
   "cell_type": "code",
   "execution_count": 1,
   "metadata": {},
   "outputs": [],
   "source": [
    "from custom_data import OxfordPetDataset\n",
    "import custom_loader\n",
    "import os\n",
    "from CAM.cam_model import ResNetBackbone, CNN, fit_sgd, visualize_cam, CAMWrapper\n",
    "import torch "
   ]
  },
  {
   "cell_type": "code",
   "execution_count": 2,
   "metadata": {},
   "outputs": [],
   "source": [
    "## HYPERPARAMETERS\n",
    "classification_mode = \"breed\"\n",
    "batch_size = 32\n",
    "\n",
    "model_type = \"Res\" ## CNN, Res\n",
    "model_dir = os.path.join(\"checkpoints\", \"CAM\")\n",
    "train_mode=True  # if False, will use trained local mode\n",
    "\n",
    "num_epochs = 50"
   ]
  },
  {
   "cell_type": "code",
   "execution_count": 3,
   "metadata": {},
   "outputs": [],
   "source": [
    "loss_function = torch.nn.CrossEntropyLoss()\n"
   ]
  },
  {
   "cell_type": "code",
   "execution_count": 4,
   "metadata": {},
   "outputs": [
    {
     "name": "stdout",
     "output_type": "stream",
     "text": [
      "Images already downloaded: oxford_pet_data/images.tar.gz\n",
      "Annotations already downloaded: oxford_pet_data/annotations.tar.gz\n",
      "Dataset prepared with 35 classes.\n",
      "Dataset split complete: training (70.0%), validation (15.0%), testing (15.0%)\n"
     ]
    }
   ],
   "source": [
    "device = torch.device(\"cuda\" if torch.cuda.is_available() else \"mps\" if torch.backends.mps.is_available() else \"cpu\")\n",
    "minibatch_size = 32\n",
    "\n",
    "dataset = OxfordPetDataset().prepare_dataset()\n",
    "train_loader, val_loader, test_loader = custom_loader.create_dataloaders(dataset, target_type=classification_mode)"
   ]
  },
  {
   "cell_type": "code",
   "execution_count": null,
   "metadata": {},
   "outputs": [
    {
     "name": "stdout",
     "output_type": "stream",
     "text": [
      "Using model Res_breed\n",
      "<Training Start>\n"
     ]
    }
   ],
   "source": [
    "### MODEL INIT\n",
    "model_mode = classification_mode ## species, breed\n",
    "model_name = f\"{model_type}_{model_mode}\"\n",
    "print(f\"Using model {model_name}\")\n",
    "\n",
    "model_path = os.path.join(model_dir, model_name)\n",
    "\n",
    "num_out = 37 if model_mode == \"breed\" else 2 \n",
    "\n",
    "### TRAIN MODEL\n",
    "if train_mode:\n",
    "    model_train = ResNetBackbone(num_classes=num_out,pretrained=True) if \"Res\" in model_name else CNN(out_channels=256,num_classes=num_out) \n",
    "    fit_sgd(model_train, train_loader, classification_mode, num_epochs, 3e-4, batch_size,   loss_function, model_path, device=device)\n",
    "\n",
    "### TESTING MODEL\n",
    "print(f\"TESTING MODEL {model_path}.pt\")\n",
    "model_test = ResNetBackbone(num_classes=num_out,pretrained=False) if \"Res\" in model_name else CNN(out_channels=256,num_classes=num_out) \n",
    "model_test.load_state_dict(torch.load(f\"{model_path}.pt\"))\n",
    "\n",
    "model_test.to(device)\n",
    "model_test.eval()\n",
    "\n",
    "\n",
    "\n",
    "visualize_cam(model_test,train_loader,model_mode, device) # Use loaded model on training dataset to show CAM\n"
   ]
  },
  {
   "cell_type": "code",
   "execution_count": 7,
   "metadata": {},
   "outputs": [
    {
     "name": "stdout",
     "output_type": "stream",
     "text": [
      "Dataset split complete: training (70.0%), validation (15.0%), testing (15.0%)\n",
      "Evaluating model...\n",
      "Mean IoU: 1.8222098214285714\n",
      "Mean F1 Score: 1.8252898659024919\n"
     ]
    }
   ],
   "source": [
    "from evaluation import evaluate_model\n",
    "\n",
    "\n",
    "\n",
    "_, val_loader, _ = custom_loader.create_dataloaders(dataset, batch_size, target_type=\"segmentation\")\n",
    "\n",
    "cam_wrapper = CAMWrapper(model_test)\n",
    "cam_wrapper.to(\"cpu\")\n",
    "evaluate_model(cam_wrapper, val_loader, 8, model_name, device = \"cpu\")"
   ]
  }
 ],
 "metadata": {
  "kernelspec": {
   "display_name": "comp0197-cw1-pt",
   "language": "python",
   "name": "python3"
  },
  "language_info": {
   "codemirror_mode": {
    "name": "ipython",
    "version": 3
   },
   "file_extension": ".py",
   "mimetype": "text/x-python",
   "name": "python",
   "nbconvert_exporter": "python",
   "pygments_lexer": "ipython3",
   "version": "3.12.9"
  }
 },
 "nbformat": 4,
 "nbformat_minor": 2
}
