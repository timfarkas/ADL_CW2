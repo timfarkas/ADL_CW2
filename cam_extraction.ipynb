{
 "cells": [
  {
   "cell_type": "code",
   "execution_count": 17,
   "metadata": {},
   "outputs": [
    {
     "name": "stderr",
     "output_type": "stream",
     "text": [
      "/Users/User/CODING/ADL_CW2/pre_training.py:140: FutureWarning: You are using `torch.load` with `weights_only=False` (the current default value), which uses the default pickle module implicitly. It is possible to construct malicious pickle data which will execute arbitrary code during unpickling (See https://github.com/pytorch/pytorch/blob/main/SECURITY.md#untrusted-models for more details). In a future release, the default value for `weights_only` will be flipped to `True`. This limits the functions that could be executed during unpickling. Arbitrary objects will no longer be allowed to be loaded via this mode unless they are explicitly allowlisted by the user via `torch.serialization.add_safe_globals`. We recommend you start setting `weights_only=True` for any use case where you don't have full control of the loaded file. Please open an issue on GitHub for any issues related to this experimental feature.\n",
      "  checkpoint = torch.load(checkpoint_path)\n"
     ]
    },
    {
     "name": "stdout",
     "output_type": "stream",
     "text": [
      "Checkpoint loaded from checkpoints/cnn_species_checkpoint_epoch10.pt (epoch 10)\n",
      "Images already downloaded: oxford_pet_data/images.tar.gz\n",
      "Annotations already downloaded: oxford_pet_data/annotations.tar.gz\n",
      "Dataset prepared with 37 classes.\n",
      "Dataset split complete: training (70.0%), validation (15.0%), testing (15.0%)\n",
      "Images already downloaded: oxford_pet_data/images.tar.gz\n",
      "Annotations already downloaded: oxford_pet_data/annotations.tar.gz\n",
      "Dataset prepared with 37 classes.\n",
      "Dataset split complete: training (70.0%), validation (15.0%), testing (15.0%)\n",
      "Images already downloaded: oxford_pet_data/images.tar.gz\n",
      "Annotations already downloaded: oxford_pet_data/annotations.tar.gz\n",
      "Dataset prepared with 37 classes.\n",
      "Dataset split complete: training (70.0%), validation (15.0%), testing (15.0%)\n"
     ]
    },
    {
     "data": {
      "text/plain": [
       "Sequential(\n",
       "  (0): CNNBackbone(\n",
       "    (features): Sequential(\n",
       "      (0): Conv2d(3, 32, kernel_size=(3, 3), stride=(1, 1), padding=(1, 1))\n",
       "      (1): BatchNorm2d(32, eps=1e-05, momentum=0.1, affine=True, track_running_stats=True)\n",
       "      (2): ReLU(inplace=True)\n",
       "      (3): MaxPool2d(kernel_size=2, stride=2, padding=0, dilation=1, ceil_mode=False)\n",
       "      (4): Conv2d(32, 64, kernel_size=(3, 3), stride=(1, 1), padding=(1, 1))\n",
       "      (5): BatchNorm2d(64, eps=1e-05, momentum=0.1, affine=True, track_running_stats=True)\n",
       "      (6): ReLU(inplace=True)\n",
       "      (7): MaxPool2d(kernel_size=2, stride=2, padding=0, dilation=1, ceil_mode=False)\n",
       "      (8): Conv2d(64, 128, kernel_size=(3, 3), stride=(1, 1), padding=(1, 1))\n",
       "      (9): BatchNorm2d(128, eps=1e-05, momentum=0.1, affine=True, track_running_stats=True)\n",
       "      (10): ReLU(inplace=True)\n",
       "      (11): MaxPool2d(kernel_size=2, stride=2, padding=0, dilation=1, ceil_mode=False)\n",
       "      (12): Conv2d(128, 256, kernel_size=(3, 3), stride=(1, 1), padding=(1, 1))\n",
       "      (13): BatchNorm2d(256, eps=1e-05, momentum=0.1, affine=True, track_running_stats=True)\n",
       "      (14): ReLU(inplace=True)\n",
       "      (15): MaxPool2d(kernel_size=2, stride=2, padding=0, dilation=1, ceil_mode=False)\n",
       "    )\n",
       "  )\n",
       "  (1): ClassifierHead(\n",
       "    (head): Sequential(\n",
       "      (0): AdaptiveAvgPool2d(output_size=(1, 1))\n",
       "      (1): Flatten(start_dim=1, end_dim=-1)\n",
       "      (2): Linear(in_features=256, out_features=2, bias=True)\n",
       "      (3): Sigmoid()\n",
       "    )\n",
       "  )\n",
       ")"
      ]
     },
     "execution_count": 17,
     "metadata": {},
     "output_type": "execute_result"
    }
   ],
   "source": [
    "from pre_training import Trainer\n",
    "from models import CAMManager, CNNBackbone, ClassifierHead\n",
    "import torch.nn as nn\n",
    "import data\n",
    "\n",
    "trainer = Trainer()\n",
    "backbone = CNNBackbone()\n",
    "head = ClassifierHead()\n",
    "trainer.set_model(backbone, [head], \"checkpoints/cnn_species_checkpoint_epoch10.pt\")\n",
    "trainer.load_checkpoint(\"checkpoints/cnn_species_checkpoint_epoch10.pt\")\n",
    "\n",
    "loader, _ , _  = data.create_dataloaders()\n",
    "\n",
    "model = nn.Sequential(backbone, head)\n",
    "model"
   ]
  },
  {
   "cell_type": "code",
   "execution_count": 19,
   "metadata": {},
   "outputs": [
    {
     "ename": "ValueError",
     "evalue": "Unsupported model type for CAM, could not detect target layers.",
     "output_type": "error",
     "traceback": [
      "\u001b[0;31m---------------------------------------------------------------------------\u001b[0m",
      "\u001b[0;31mValueError\u001b[0m                                Traceback (most recent call last)",
      "Cell \u001b[0;32mIn[19], line 1\u001b[0m\n\u001b[0;32m----> 1\u001b[0m manager \u001b[38;5;241m=\u001b[39m \u001b[43mCAMManager\u001b[49m\u001b[43m(\u001b[49m\u001b[43mmodel\u001b[49m\u001b[43m,\u001b[49m\u001b[43m \u001b[49m\u001b[43mloader\u001b[49m\u001b[43m,\u001b[49m\u001b[43m \u001b[49m\u001b[43mtarget_type\u001b[49m\u001b[38;5;241;43m=\u001b[39;49m\u001b[38;5;124;43m\"\u001b[39;49m\u001b[38;5;124;43mspecies\u001b[39;49m\u001b[38;5;124;43m\"\u001b[39;49m\u001b[43m,\u001b[49m\u001b[43m \u001b[49m\u001b[43mtarget_layer\u001b[49m\u001b[38;5;241;43m=\u001b[39;49m\u001b[38;5;28;43;01mNone\u001b[39;49;00m\u001b[43m)\u001b[49m\n",
      "File \u001b[0;32m~/CODING/ADL_CW2/models.py:213\u001b[0m, in \u001b[0;36mCAMManager.__init__\u001b[0;34m(self, model, dataloader, target_type, method, target_layer, smooth)\u001b[0m\n\u001b[1;32m    209\u001b[0m             \u001b[38;5;28mself\u001b[39m\u001b[38;5;241m.\u001b[39mtarget_layers \u001b[38;5;241m=\u001b[39m [\n\u001b[1;32m    210\u001b[0m                 model\u001b[38;5;241m.\u001b[39mfeatures[\u001b[38;5;241m-\u001b[39m\u001b[38;5;241m2\u001b[39m]\n\u001b[1;32m    211\u001b[0m             ]  \u001b[38;5;66;03m# Last conv layer before GAP in CNN\u001b[39;00m\n\u001b[1;32m    212\u001b[0m     \u001b[38;5;28;01melse\u001b[39;00m:\n\u001b[0;32m--> 213\u001b[0m         \u001b[38;5;28;01mraise\u001b[39;00m \u001b[38;5;167;01mValueError\u001b[39;00m(\n\u001b[1;32m    214\u001b[0m             \u001b[38;5;124m\"\u001b[39m\u001b[38;5;124mUnsupported model type for CAM, could not detect target layers.\u001b[39m\u001b[38;5;124m\"\u001b[39m\n\u001b[1;32m    215\u001b[0m         )\n\u001b[1;32m    216\u001b[0m \u001b[38;5;28;01melse\u001b[39;00m:\n\u001b[1;32m    217\u001b[0m     \u001b[38;5;28mself\u001b[39m\u001b[38;5;241m.\u001b[39mtarget_layers \u001b[38;5;241m=\u001b[39m [target_layer]\n",
      "\u001b[0;31mValueError\u001b[0m: Unsupported model type for CAM, could not detect target layers."
     ]
    }
   ],
   "source": [
    "manager = CAMManager(model, loader, target_type=\"species\", target_layer=None)"
   ]
  }
 ],
 "metadata": {
  "kernelspec": {
   "display_name": "comp0197-cw1-pt",
   "language": "python",
   "name": "python3"
  },
  "language_info": {
   "codemirror_mode": {
    "name": "ipython",
    "version": 3
   },
   "file_extension": ".py",
   "mimetype": "text/x-python",
   "name": "python",
   "nbconvert_exporter": "python",
   "pygments_lexer": "ipython3",
   "version": "3.12.9"
  }
 },
 "nbformat": 4,
 "nbformat_minor": 2
}
