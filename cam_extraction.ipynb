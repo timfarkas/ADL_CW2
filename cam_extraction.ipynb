{
 "cells": [
  {
   "cell_type": "code",
   "execution_count": 30,
   "metadata": {},
   "outputs": [
    {
     "name": "stderr",
     "output_type": "stream",
     "text": [
      "/Users/User/CODING/ADL_CW2/pre_training.py:140: FutureWarning: You are using `torch.load` with `weights_only=False` (the current default value), which uses the default pickle module implicitly. It is possible to construct malicious pickle data which will execute arbitrary code during unpickling (See https://github.com/pytorch/pytorch/blob/main/SECURITY.md#untrusted-models for more details). In a future release, the default value for `weights_only` will be flipped to `True`. This limits the functions that could be executed during unpickling. Arbitrary objects will no longer be allowed to be loaded via this mode unless they are explicitly allowlisted by the user via `torch.serialization.add_safe_globals`. We recommend you start setting `weights_only=True` for any use case where you don't have full control of the loaded file. Please open an issue on GitHub for any issues related to this experimental feature.\n",
      "  checkpoint = torch.load(checkpoint_path)\n"
     ]
    },
    {
     "name": "stdout",
     "output_type": "stream",
     "text": [
      "Checkpoint loaded from checkpoints/cnn_species_checkpoint_epoch10.pt (epoch 10)\n",
      "Images already downloaded: oxford_pet_data/images.tar.gz\n",
      "Annotations already downloaded: oxford_pet_data/annotations.tar.gz\n",
      "Dataset prepared with 37 classes.\n",
      "Dataset split complete: training (70.0%), validation (15.0%), testing (15.0%)\n",
      "Images already downloaded: oxford_pet_data/images.tar.gz\n",
      "Annotations already downloaded: oxford_pet_data/annotations.tar.gz\n",
      "Dataset prepared with 37 classes.\n",
      "Dataset split complete: training (70.0%), validation (15.0%), testing (15.0%)\n",
      "Images already downloaded: oxford_pet_data/images.tar.gz\n",
      "Annotations already downloaded: oxford_pet_data/annotations.tar.gz\n",
      "Dataset prepared with 37 classes.\n",
      "Dataset split complete: training (70.0%), validation (15.0%), testing (15.0%)\n"
     ]
    }
   ],
   "source": [
    "import torch.nn as nn\n",
    "\n",
    "import data\n",
    "from models import CAMManager, ClassifierHead, CNNBackbone\n",
    "from pre_training import Trainer\n",
    "\n",
    "\n",
    "def findLastConvLayer(model):\n",
    "    \"\"\"\n",
    "    Find the last convolutional layer in a model.\n",
    "\n",
    "    Args:\n",
    "        model: The model to search through\n",
    "\n",
    "    Returns:\n",
    "        The last convolutional layer found, or None if not found\n",
    "    \"\"\"\n",
    "    last_conv = None\n",
    "\n",
    "    # Check if model is Sequential\n",
    "    if isinstance(model, nn.Sequential):\n",
    "        # Check each module in the sequential container\n",
    "        for module in model:\n",
    "            result = findLastConvLayer(module)\n",
    "            if result is not None:\n",
    "                last_conv = result\n",
    "\n",
    "    # Check if model has features attribute (like our backbone)\n",
    "    elif hasattr(model, \"features\") and isinstance(model.features, nn.Sequential):\n",
    "        for module in model.features:\n",
    "            if isinstance(module, nn.Conv2d):\n",
    "                last_conv = module\n",
    "\n",
    "    # Check if the model itself is a Conv2d\n",
    "    elif isinstance(model, nn.Conv2d):\n",
    "        return model\n",
    "\n",
    "    return last_conv\n",
    "\n",
    "\n",
    "trainer = Trainer()\n",
    "backbone = CNNBackbone()\n",
    "head = ClassifierHead()\n",
    "trainer.set_model(backbone, [head], \"checkpoints/cnn_species_checkpoint_epoch10.pt\")\n",
    "trainer.load_checkpoint(\"checkpoints/cnn_species_checkpoint_epoch10.pt\")\n",
    "\n",
    "_, _, loader = data.create_dataloaders(target_type=[\"species\", \"segmentation\"])"
   ]
  },
  {
   "cell_type": "code",
   "execution_count": 31,
   "metadata": {},
   "outputs": [],
   "source": [
    "model = nn.Sequential(backbone, head)\n",
    "layer = findLastConvLayer(model)"
   ]
  },
  {
   "cell_type": "code",
   "execution_count": 32,
   "metadata": {},
   "outputs": [],
   "source": [
    "manager = CAMManager(model, loader, target_type=\"species\", target_layer=layer)"
   ]
  },
  {
   "cell_type": "code",
   "execution_count": 34,
   "metadata": {},
   "outputs": [
    {
     "data": {
      "text/plain": [
       "<torch.utils.data.dataset.TensorDataset at 0x306192e70>"
      ]
     },
     "execution_count": 34,
     "metadata": {},
     "output_type": "execute_result"
    }
   ],
   "source": [
    "manager.dataset"
   ]
  },
  {
   "cell_type": "code",
   "execution_count": null,
   "metadata": {},
   "outputs": [],
   "source": []
  }
 ],
 "metadata": {
  "kernelspec": {
   "display_name": "comp0197-cw1-pt",
   "language": "python",
   "name": "python3"
  },
  "language_info": {
   "codemirror_mode": {
    "name": "ipython",
    "version": 3
   },
   "file_extension": ".py",
   "mimetype": "text/x-python",
   "name": "python",
   "nbconvert_exporter": "python",
   "pygments_lexer": "ipython3",
   "version": "3.12.9"
  }
 },
 "nbformat": 4,
 "nbformat_minor": 2
}
